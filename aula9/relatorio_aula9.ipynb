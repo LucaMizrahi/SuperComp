{
 "cells": [
  {
   "cell_type": "markdown",
   "metadata": {},
   "source": [
    "# Aula 9: Heurísticas"
   ]
  },
  {
   "cell_type": "markdown",
   "metadata": {},
   "source": [
    "### Luca Mizrahi"
   ]
  },
  {
   "cell_type": "markdown",
   "metadata": {},
   "source": [
    "#### *Compare esta heurística com a da seção anterior levando em conta a complexidade computacional.*"
   ]
  },
  {
   "cell_type": "markdown",
   "metadata": {},
   "source": [
    "Ao comparar as heurísticas **\"Mais Caro Primeiro\"** e **\"Mais Leve Primeiro**, podemos analisar a **complexidade computacional** com base nas operações que elas realizam, principalmente nas etapas de ordenação e seleção dos itens. Ambas as heurísticas têm a mesma complexidade principal devido ao processo de ordenação, mas há sutilezas no contexto de uso que podem influenciar seu comportamento em diferentes cenários.\n",
    "\n",
    "#### Heurística \"Mais Caro Primeiro\":\n",
    "- **Processo**: Os itens são ordenados pelo valor em ordem decrescente e, em seguida, selecionamos os itens com maior valor até que a capacidade da mochila seja atingida.\n",
    "- **Complexidade da Ordenação**: A ordenação pelo valor dos itens tem complexidade de **O(N log N)**, onde `N` é o número de itens.\n",
    "- **Seleção dos Itens**: Após ordenar, iteramos sobre o vetor de itens para adicionar os itens à mochila. Esse processo tem complexidade **O(N)**, já que percorremos cada item uma única vez.\n",
    "  \n",
    "- **Complexidade Total**:\n",
    "  - **Ordenação**: `O(N log N)`\n",
    "  - **Seleção**: `O(N)`\n",
    "  - **Total**: **O(N log N)**, dominado pela ordenação.\n",
    "\n",
    "#### Heurística \"Mais Leve Primeiro\":\n",
    "- **Processo**: Os itens são ordenados pelo peso em ordem crescente, e em seguida, selecionamos os itens mais leves até que a capacidade da mochila seja atingida.\n",
    "- **Complexidade da Ordenação**: A ordenação pelo peso tem a mesma complexidade de **O(N log N)**.\n",
    "- **Seleção dos Itens**: Após ordenar, percorremos o vetor para adicionar os itens à mochila, o que tem complexidade **O(N)**.\n",
    "\n",
    "- **Complexidade Total**:\n",
    "  - **Ordenação**: `O(N log N)`\n",
    "  - **Seleção**: `O(N)`\n",
    "  - **Total**: **O(N log N)**, também dominado pela ordenação.\n",
    "\n",
    "Ambas as heurísticas apresentam a mesma **complexidade assintótica** total de **O(N log N)**. Essa complexidade é dominada pelo processo de ordenação, já que a operação de seleção dos itens tem complexidade linear (`O(N)`) em ambos os casos.\n",
    "\n",
    "#### Diferenças em Cenários Reais:\n",
    "Embora a complexidade seja a mesma, a eficiência prática de cada heurística pode variar dependendo da natureza dos dados de entrada. A seguir, estão alguns cenários em que essas diferenças podem ser mais evidentes:\n",
    "\n",
    "- **Desempenho no Caso Melhor**:\n",
    "  - No caso da heurística **\"Mais Caro Primeiro\"**, se houver poucos itens de alto valor e eles puderem ser selecionados sem exceder a capacidade da mochila, a seleção dos itens pode ser muito eficiente.\n",
    "  - Na heurística **\"Mais Leve Primeiro\"**, o número de itens selecionados pode ser maior, o que significa que mais itens serão iterados antes de atingir a capacidade da mochila.\n",
    "  \n",
    "- **Desempenho no Caso Pior**:\n",
    "  - Ambas as heurísticas têm a mesma complexidade no caso geral, mas a quantidade de iterações para a seleção de itens pode influenciar o desempenho em termos práticos. Se a heurística \"Mais Leve Primeiro\" precisa iterar sobre muitos itens leves sem atingir a capacidade, pode haver mais verificações.\n",
    "\n",
    "Além da complexidade teórica, há algumas considerações práticas que podem influenciar a escolha de uma heurística:\n",
    "\n",
    "- **Tipo de Problema**:\n",
    "  - Se o problema favorece a maximização de valor com uma limitação estrita de peso, a heurística **\"Mais Caro Primeiro\"** pode ser mais eficiente em obter uma solução de alto valor.\n",
    "  - Se o objetivo é maximizar o número de itens, então a heurística **\"Mais Leve Primeiro\"** pode funcionar melhor, especialmente quando os itens de menor peso ainda têm valores razoáveis.\n",
    "\n",
    "- **Tempo de Execução**:\n",
    "  - Embora ambas as heurísticas tenham complexidade `O(N log N)`, em entradas reais, a quantidade de tempo gasto em cada caso pode variar. Por exemplo, se os itens são pequenos e numerosos, a heurística **\"Mais Leve Primeiro\"** pode ter que percorrer mais itens antes de atingir a capacidade da mochila.\n",
    "\n",
    "Ambas as heurísticas têm a mesma **complexidade assintótica** de **O(N log N)** devido ao processo de ordenação. No entanto, a eficiência prática de cada uma pode variar de acordo com o problema específico:\n",
    "\n",
    "- **\"Mais Caro Primeiro\"** é ideal quando os itens mais valiosos devem ser priorizados, pois pode maximizar o valor total da mochila com menos itens.\n",
    "- **\"Mais Leve Primeiro\"** é útil quando o objetivo é adicionar o maior número de itens possível, o que pode ser importante quando muitos itens pequenos podem preencher a mochila de maneira eficiente.\n",
    "\n",
    "Em termos de complexidade teórica, as duas são equivalentes, mas o desempenho prático pode variar dependendo do contexto e dos dados de entrada."
   ]
  },
  {
   "cell_type": "markdown",
   "metadata": {},
   "source": []
  }
 ],
 "metadata": {
  "language_info": {
   "name": "python"
  }
 },
 "nbformat": 4,
 "nbformat_minor": 2
}
