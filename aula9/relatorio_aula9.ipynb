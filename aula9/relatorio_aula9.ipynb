{
 "cells": [
  {
   "cell_type": "markdown",
   "metadata": {},
   "source": [
    "# Aula 9: Heurísticas"
   ]
  },
  {
   "cell_type": "markdown",
   "metadata": {},
   "source": [
    "### Luca Mizrahi"
   ]
  },
  {
   "cell_type": "markdown",
   "metadata": {},
   "source": [
    "----------------------"
   ]
  },
  {
   "cell_type": "markdown",
   "metadata": {},
   "source": [
    "#### *Compare esta heurística com a da seção anterior levando em conta a complexidade computacional.*"
   ]
  },
  {
   "cell_type": "markdown",
   "metadata": {},
   "source": [
    "Ao comparar as heurísticas **\"Mais Caro Primeiro\"** e **\"Mais Leve Primeiro**, podemos analisar a **complexidade computacional** com base nas operações que elas realizam, principalmente nas etapas de ordenação e seleção dos itens. Ambas as heurísticas têm a mesma complexidade principal devido ao processo de ordenação, mas há sutilezas no contexto de uso que podem influenciar seu comportamento em diferentes cenários.\n",
    "\n",
    "#### Heurística \"Mais Caro Primeiro\":\n",
    "- **Processo**: Os itens são ordenados pelo valor em ordem decrescente e, em seguida, selecionamos os itens com maior valor até que a capacidade da mochila seja atingida.\n",
    "- **Complexidade da Ordenação**: A ordenação pelo valor dos itens tem complexidade de **O(N log N)**, onde `N` é o número de itens.\n",
    "- **Seleção dos Itens**: Após ordenar, iteramos sobre o vetor de itens para adicionar os itens à mochila. Esse processo tem complexidade **O(N)**, já que percorremos cada item uma única vez.\n",
    "  \n",
    "- **Complexidade Total**:\n",
    "  - **Ordenação**: `O(N log N)`\n",
    "  - **Seleção**: `O(N)`\n",
    "  - **Total**: **O(N log N)**, dominado pela ordenação.\n",
    "\n",
    "#### Heurística \"Mais Leve Primeiro\":\n",
    "- **Processo**: Os itens são ordenados pelo peso em ordem crescente, e em seguida, selecionamos os itens mais leves até que a capacidade da mochila seja atingida.\n",
    "- **Complexidade da Ordenação**: A ordenação pelo peso tem a mesma complexidade de **O(N log N)**.\n",
    "- **Seleção dos Itens**: Após ordenar, percorremos o vetor para adicionar os itens à mochila, o que tem complexidade **O(N)**.\n",
    "\n",
    "- **Complexidade Total**:\n",
    "  - **Ordenação**: `O(N log N)`\n",
    "  - **Seleção**: `O(N)`\n",
    "  - **Total**: **O(N log N)**, também dominado pela ordenação.\n",
    "\n",
    "Ambas as heurísticas apresentam a mesma **complexidade assintótica** total de **O(N log N)**. Essa complexidade é dominada pelo processo de ordenação, já que a operação de seleção dos itens tem complexidade linear (`O(N)`) em ambos os casos.\n",
    "\n",
    "#### Diferenças em Cenários Reais:\n",
    "Embora a complexidade seja a mesma, a eficiência prática de cada heurística pode variar dependendo da natureza dos dados de entrada. A seguir, estão alguns cenários em que essas diferenças podem ser mais evidentes:\n",
    "\n",
    "- **Desempenho no Caso Melhor**:\n",
    "  - No caso da heurística **\"Mais Caro Primeiro\"**, se houver poucos itens de alto valor e eles puderem ser selecionados sem exceder a capacidade da mochila, a seleção dos itens pode ser muito eficiente.\n",
    "  - Na heurística **\"Mais Leve Primeiro\"**, o número de itens selecionados pode ser maior, o que significa que mais itens serão iterados antes de atingir a capacidade da mochila.\n",
    "  \n",
    "- **Desempenho no Caso Pior**:\n",
    "  - Ambas as heurísticas têm a mesma complexidade no caso geral, mas a quantidade de iterações para a seleção de itens pode influenciar o desempenho em termos práticos. Se a heurística \"Mais Leve Primeiro\" precisa iterar sobre muitos itens leves sem atingir a capacidade, pode haver mais verificações.\n",
    "\n",
    "Além da complexidade teórica, há algumas considerações práticas que podem influenciar a escolha de uma heurística:\n",
    "\n",
    "- **Tipo de Problema**:\n",
    "  - Se o problema favorece a maximização de valor com uma limitação estrita de peso, a heurística **\"Mais Caro Primeiro\"** pode ser mais eficiente em obter uma solução de alto valor.\n",
    "  - Se o objetivo é maximizar o número de itens, então a heurística **\"Mais Leve Primeiro\"** pode funcionar melhor, especialmente quando os itens de menor peso ainda têm valores razoáveis.\n",
    "\n",
    "- **Tempo de Execução**:\n",
    "  - Embora ambas as heurísticas tenham complexidade `O(N log N)`, em entradas reais, a quantidade de tempo gasto em cada caso pode variar. Por exemplo, se os itens são pequenos e numerosos, a heurística **\"Mais Leve Primeiro\"** pode ter que percorrer mais itens antes de atingir a capacidade da mochila.\n",
    "\n",
    "Ambas as heurísticas têm a mesma **complexidade assintótica** de **O(N log N)** devido ao processo de ordenação. No entanto, a eficiência prática de cada uma pode variar de acordo com o problema específico:\n",
    "\n",
    "- **\"Mais Caro Primeiro\"** é ideal quando os itens mais valiosos devem ser priorizados, pois pode maximizar o valor total da mochila com menos itens.\n",
    "- **\"Mais Leve Primeiro\"** é útil quando o objetivo é adicionar o maior número de itens possível, o que pode ser importante quando muitos itens pequenos podem preencher a mochila de maneira eficiente.\n",
    "\n",
    "Em termos de complexidade teórica, as duas são equivalentes, mas o desempenho prático pode variar dependendo do contexto e dos dados de entrada."
   ]
  },
  {
   "cell_type": "markdown",
   "metadata": {},
   "source": [
    "------------------"
   ]
  },
  {
   "cell_type": "markdown",
   "metadata": {},
   "source": [
    "#### *Quais partes do programa da heurística anterior podem ser aproveitadas para implementar a descrita acima?*"
   ]
  },
  {
   "cell_type": "markdown",
   "metadata": {},
   "source": [
    "As heurísticas **\"Mais Caro Primeiro\"** e **\"Mais Leve Primeiro\"** são bastante similares em sua estrutura. Portanto, grande parte do código da heurística **\"Mais Caro Primeiro\"** pode ser reutilizado para implementar a heurística **\"Mais Leve Primeiro\"**.\n",
    "\n",
    "Aqui está uma análise das partes que podem ser aproveitadas:\n",
    "\n",
    "#### 1. **Estrutura de Dados `item`**\n",
    "A estrutura para armazenar os itens (`item`) é idêntica para ambas as heurísticas, contendo os mesmos atributos (id, peso, valor). Assim, essa parte do código pode ser diretamente reaproveitada:\n",
    "\n",
    "```cpp\n",
    "struct item {\n",
    "    int id;\n",
    "    double peso;\n",
    "    double valor;\n",
    "\n",
    "    // Função que retorna a razão valor/peso (não será usada aqui, mas pode ser útil)\n",
    "    double valor_por_peso() const {\n",
    "        return valor / peso;\n",
    "    }\n",
    "};\n",
    "```\n",
    "\n",
    "#### 2. **Leitura dos Dados**\n",
    "A leitura dos dados (número de itens, capacidade da mochila, peso e valor dos itens) é a mesma para ambas as heurísticas. O código que lê esses dados do arquivo ou do terminal pode ser reaproveitado sem modificações:\n",
    "\n",
    "```cpp\n",
    "int N;  // Número de itens\n",
    "double W;  // Capacidade da mochila\n",
    "\n",
    "// Leitura da entrada (exemplo de leitura a partir de arquivo ou entrada do usuário)\n",
    "std::ifstream inputFile(\"entrada.txt\");\n",
    "inputFile >> N >> W;\n",
    "\n",
    "std::vector<item> items(N);\n",
    "for (int i = 0; i < N; ++i) {\n",
    "    items[i].id = i + 1;\n",
    "    inputFile >> items[i].peso >> items[i].valor;\n",
    "}\n",
    "```\n",
    "\n",
    "#### 3. **Estrutura Geral da Heurística**\n",
    "Tanto a heurística \"Mais Caro Primeiro\" quanto a \"Mais Leve Primeiro\" seguem a mesma estrutura básica:\n",
    "1. Ordenar os itens.\n",
    "2. Selecionar os itens até atingir a capacidade da mochila.\n",
    "\n",
    "A principal diferença está no **critério de ordenação**. Portanto, a parte da seleção de itens após a ordenação pode ser reutilizada sem mudanças.\n",
    "\n",
    "#### 4. **Seleção dos Itens**\n",
    "Após ordenar os itens, o processo de adicionar itens à mochila enquanto houver espaço pode ser exatamente o mesmo:\n",
    "\n",
    "```cpp\n",
    "double peso_total = 0;\n",
    "double valor_total = 0;\n",
    "std::vector<int> itens_selecionados;\n",
    "\n",
    "for (const auto& it : items) {\n",
    "    if (peso_total + it.peso <= W) {\n",
    "        peso_total += it.peso;\n",
    "        valor_total += it.valor;\n",
    "        itens_selecionados.push_back(it.id);\n",
    "    }\n",
    "}\n",
    "```\n",
    "\n",
    "#### 5. **Ordenação dos Itens**\n",
    "A única diferença entre as duas heurísticas é a **forma como os itens são ordenados**:\n",
    "- Em **\"Mais Caro Primeiro\"**, ordenamos os itens pelo **valor** em ordem decrescente.\n",
    "- Em **\"Mais Leve Primeiro\"**, ordenamos os itens pelo **peso** em ordem crescente.\n",
    "\n",
    "Portanto, a única parte que precisa ser modificada entre as duas heurísticas é a **função de ordenação**. Essa modificação é pequena, sendo apenas a troca do critério de ordenação no `std::sort`.\n",
    "\n",
    "#### Ordenação para \"Mais Caro Primeiro\":\n",
    "```cpp\n",
    "std::sort(items.begin(), items.end(), [](const item& a, const item& b) {\n",
    "    return a.valor > b.valor;  // Ordena por valor decrescente\n",
    "});\n",
    "```\n",
    "\n",
    "#### Ordenação para \"Mais Leve Primeiro\":\n",
    "```cpp\n",
    "std::sort(items.begin(), items.end(), [](const item& a, const item& b) {\n",
    "    return a.peso < b.peso;  // Ordena por peso crescente\n",
    "});\n",
    "```"
   ]
  },
  {
   "cell_type": "markdown",
   "metadata": {},
   "source": [
    "----------------"
   ]
  },
  {
   "cell_type": "markdown",
   "metadata": {},
   "source": [
    "#### *Crie uma entrada em que a heurística do mais valioso seja muito melhor que a do mais leve. Coloque no relatório as saídas de cada programa.*"
   ]
  },
  {
   "cell_type": "markdown",
   "metadata": {},
   "source": [
    "Entrada1.txt:\n",
    "```\n",
    "10 10\n",
    "9 1000\n",
    "1 10\n",
    "1 10\n",
    "1 10\n",
    "1 10\n",
    "1 10\n",
    "1 10\n",
    "1 10\n",
    "1 10\n",
    "1 10\n",
    "```"
   ]
  },
  {
   "cell_type": "markdown",
   "metadata": {},
   "source": [
    "Saida1.txt para o teste da entrada1.txt:\n",
    "\n",
    "```\n",
    "Heurística: Mais Caro Primeiro\n",
    "Valor total dos itens na mochila: 1010\n",
    "Peso total dos itens na mochila: 10\n",
    "Tempo de execução: 2.218e-06 segundos\n",
    "Itens selecionados: 1 2 \n",
    "\n",
    "Heurística: Mais Leve Primeiro\n",
    "Valor total dos itens na mochila: 90\n",
    "Peso total dos itens na mochila: 9\n",
    "Tempo de execução: 1.734e-06 segundos\n",
    "Itens selecionados: 2 3 4 5 6 7 8 9 10 \n",
    "```"
   ]
  },
  {
   "cell_type": "markdown",
   "metadata": {},
   "source": [
    "O arquivo saida1.txt mostra que a heurística \"Mais Caro Primeiro\" obteve um valor total de 1010, enquanto a heurística \"Mais Leve Primeiro\" obteve um valor total de 90. Isso mostra que, para essa entrada específica, a heurística \"Mais Caro Primeiro\" foi muito melhor do que a heurística \"Mais Leve Primeiro\"."
   ]
  },
  {
   "cell_type": "markdown",
   "metadata": {},
   "source": [
    "----------------"
   ]
  },
  {
   "cell_type": "markdown",
   "metadata": {},
   "source": [
    "#### *Crie uma entrada em que a heurística do mais leve seja muito melhor que a do mais valioso. Coloque no relatório as saídas de cada programa.*"
   ]
  },
  {
   "cell_type": "markdown",
   "metadata": {},
   "source": [
    "Entrada2.txt:\n",
    "```\n",
    "10 10\n",
    "10 50\n",
    "1 15\n",
    "1 15\n",
    "1 15\n",
    "1 15\n",
    "1 15\n",
    "1 15\n",
    "1 15\n",
    "1 15\n",
    "1 15\n",
    "```"
   ]
  },
  {
   "cell_type": "markdown",
   "metadata": {},
   "source": [
    "Saida2.txt para o teste da entrada2.txt:\n",
    "\n",
    "```\n",
    "Heurística: Mais Caro Primeiro\n",
    "Valor total dos itens na mochila: 50\n",
    "Peso total dos itens na mochila: 10\n",
    "Itens selecionados: 1\n",
    "Tempo de execução: (tempo de execução)\n",
    "\n",
    "Heurística: Mais Leve Primeiro\n",
    "Valor total dos itens na mochila: 135\n",
    "Peso total dos itens na mochila: 9\n",
    "Itens selecionados: 2 3 4 5 6 7 8 9 10\n",
    "Tempo de execução: (tempo de execução)\n",
    "```"
   ]
  },
  {
   "cell_type": "markdown",
   "metadata": {},
   "source": [
    "O arquivo saida2.txt mostra que a heurística \"Mais Leve Primeiro\" obteve um valor total de 135, enquanto a heurística \"Mais Caro Primeiro\" obteve um valor total de 50. Isso mostra que, para essa entrada específica, a heurística \"Mais Leve Primeiro\" foi muito melhor do que a heurística \"Mais Caro Primeiro\"."
   ]
  },
  {
   "cell_type": "markdown",
   "metadata": {},
   "source": [
    "----------------"
   ]
  },
  {
   "cell_type": "markdown",
   "metadata": {},
   "source": [
    "#### *Com base nas suas respostas acima, em quais situações a heurística do mais valioso é melhor?*"
   ]
  },
  {
   "cell_type": "markdown",
   "metadata": {},
   "source": [
    "A heurística **\"Mais Valioso Primeiro\"** é melhor em situações onde:\n",
    "\n",
    "1. **Itens de Alto Valor Têm Peso Moderado**: Quando os itens mais valiosos podem ser adicionados à mochila sem exceder a capacidade, e esses itens têm uma alta relação valor/peso.\n",
    "   \n",
    "2. **Poucos Itens Muito Valiosos**: Quando há poucos itens de alto valor e eles dominam a relação valor/peso em comparação com os outros itens. Nesses casos, escolher itens mais valiosos maximiza o valor total da mochila rapidamente.\n",
    "\n",
    "3. **Mochilas com Capacidade Limite Pequena**: Em situações onde a capacidade da mochila é pequena e selecionar itens de alto valor resulta em uma solução mais eficiente do que adicionar muitos itens de menor valor.\n",
    "\n",
    "4. **Diferencial de Valor Significativo**: Quando a diferença de valor entre os itens é muito grande e vale a pena selecionar um único item valioso em vez de vários itens leves com baixo valor.\n",
    "\n",
    "Em resumo, a heurística \"Mais Valioso Primeiro\" é ideal quando há itens que oferecem um alto retorno em termos de valor, especialmente em cenários onde há uma disparidade clara entre itens de valor alto e itens de valor baixo."
   ]
  },
  {
   "cell_type": "markdown",
   "metadata": {},
   "source": [
    "----------------"
   ]
  },
  {
   "cell_type": "markdown",
   "metadata": {},
   "source": [
    "#### *Com base nas suas respostas acima, em quais situações a heurística do mais leve é melhor?*"
   ]
  },
  {
   "cell_type": "markdown",
   "metadata": {},
   "source": [
    "A heurística **\"Mais Leve Primeiro\"** é melhor em situações onde:\n",
    "\n",
    "1. **Muitos Itens Leves com Bom Valor**: Quando há muitos itens de baixo peso que, somados, podem gerar um valor total alto sem exceder a capacidade da mochila.\n",
    "   \n",
    "2. **Alta Relação Valor/Peso nos Itens Leves**: Se os itens leves têm uma relação valor/peso competitiva ou superior aos itens mais pesados, preencher a mochila com esses itens maximiza o valor.\n",
    "\n",
    "3. **Distribuição Uniforme de Valor**: Quando os itens têm valores relativamente próximos, mas pesos diferentes, a seleção de itens mais leves permite otimizar a quantidade de itens na mochila, maximizando o valor.\n",
    "\n",
    "4. **Capacidade Alta**: Em situações onde a capacidade da mochila permite adicionar vários itens, selecionar os mais leves tende a aproveitar melhor o espaço disponível.\n",
    "\n",
    "Em resumo, a heurística \"Mais Leve Primeiro\" é ideal quando maximizar o número de itens na mochila leva a um valor total maior, especialmente em casos onde itens leves possuem uma boa relação valor/peso."
   ]
  },
  {
   "cell_type": "markdown",
   "metadata": {},
   "source": [
    "---------------"
   ]
  },
  {
   "cell_type": "markdown",
   "metadata": {},
   "source": []
  }
 ],
 "metadata": {
  "language_info": {
   "name": "python"
  }
 },
 "nbformat": 4,
 "nbformat_minor": 2
}
