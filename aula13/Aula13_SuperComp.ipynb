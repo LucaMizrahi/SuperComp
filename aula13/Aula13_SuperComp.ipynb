{
 "cells": [
  {
   "cell_type": "markdown",
   "metadata": {},
   "source": [
    "# Aula 13: Trabalhando com Schedulers no OpenMP"
   ]
  },
  {
   "cell_type": "markdown",
   "metadata": {},
   "source": [
    "### Nome: Luca Mizrahi"
   ]
  },
  {
   "cell_type": "markdown",
   "metadata": {},
   "source": [
    "#### *Parte 1: Schedules*"
   ]
  },
  {
   "cell_type": "markdown",
   "metadata": {},
   "source": [
    "-    Qual scheduler apresentou o menor tempo médio?\n",
    "\n",
    "-    Algum scheduler teve variações significativas entre as execuções? Se sim, por quê?\n",
    "\n",
    "-    Alguma característica específica do trabalho (como carga de dados, balanceamento) parece ter influenciado o comportamento de um scheduler em particular?\n"
   ]
  },
  {
   "cell_type": "markdown",
   "metadata": {},
   "source": [
    "-------------"
   ]
  },
  {
   "cell_type": "markdown",
   "metadata": {},
   "source": [
    "#### *Parte 2: PI*"
   ]
  },
  {
   "cell_type": "markdown",
   "metadata": {},
   "source": [
    "-    Paralelize o cálculo recursivo de Pi usando parallel for e meça o tempo de execução. Execute o código pelo menos 3 vezes com diferentes valores de MIN_BLK e registre os tempos.\n",
    "\n",
    "-    Paralelize o cálculo recursivo de Pi usando #pragma omp task e meça o tempo de execução. Execute o código pelo menos 3 vezes com diferentes números de tarefas e registre os tempos.\n"
   ]
  },
  {
   "cell_type": "markdown",
   "metadata": {},
   "source": [
    "---------"
   ]
  },
  {
   "cell_type": "markdown",
   "metadata": {},
   "source": [
    "#### *Parte 3: Manipulação de Efeitos Colaterais no Vetor*"
   ]
  },
  {
   "cell_type": "markdown",
   "metadata": {},
   "source": []
  },
  {
   "cell_type": "markdown",
   "metadata": {},
   "source": [
    "-    Paralelize o código que modifica um vetor com #pragma omp critical para evitar acessos simultâneos ao vetor e registre os tempos de execução. Execute o código pelo menos 3 vezes e registre os tempos.\n",
    "\n",
    "-    Modifique o código para pré-alocar a memória do vetor, evitando o uso de push_back, e meça o tempo. Execute o código pelo menos 3 vezes e registre os tempos.\n"
   ]
  },
  {
   "cell_type": "markdown",
   "metadata": {},
   "source": [
    "------------"
   ]
  },
  {
   "cell_type": "markdown",
   "metadata": {},
   "source": [
    "#### *Parte 4: Conclusão*"
   ]
  },
  {
   "cell_type": "markdown",
   "metadata": {},
   "source": [
    "-    Resuma as principais conclusões com base nos resultados obtidos nos testes.\n",
    "\n",
    "*Resposta*: \n",
    "\n",
    "-    Qual abordagem geral você considera mais eficiente para problemas recursivos e com efeitos colaterais?\n",
    "\n",
    "*Resposta*:\n",
    "\n",
    "-    Alguma técnica apresentou resultados inesperados? O que poderia explicar isso?\n",
    "\n",
    "*Resposta*:\n"
   ]
  }
 ],
 "metadata": {
  "language_info": {
   "name": "python"
  }
 },
 "nbformat": 4,
 "nbformat_minor": 2
}
