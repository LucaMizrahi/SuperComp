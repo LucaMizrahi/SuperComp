{
 "cells": [
  {
   "cell_type": "markdown",
   "metadata": {},
   "source": [
    "# Projeto SuperComputação 2024.2"
   ]
  },
  {
   "cell_type": "markdown",
   "metadata": {},
   "source": [
    "### Nome: Luca Mizrahi"
   ]
  },
  {
   "cell_type": "markdown",
   "metadata": {},
   "source": [
    "#### *Código-fonte de geração de grafos*"
   ]
  },
  {
   "cell_type": "code",
   "execution_count": 3,
   "metadata": {},
   "outputs": [
    {
     "name": "stdout",
     "output_type": "stream",
     "text": [
      "Grafo densamente conectado gerado e salvo em 'grafo50.txt'.\n"
     ]
    }
   ],
   "source": [
    "import networkx as nx\n",
    "import random\n",
    "\n",
    "# Parâmetros\n",
    "num_vertices = 50  # Número de vértices no grafo\n",
    "probabilidade_conexao = 0.7  # Probabilidade de haver uma aresta entre dois vértices (ajuste conforme necessário)\n",
    "\n",
    "# Crie um grafo aleatório densamente conectado\n",
    "grafo = nx.fast_gnp_random_graph(num_vertices, probabilidade_conexao)\n",
    "\n",
    "# Nome do arquivo de saída\n",
    "nome_arquivo = \"grafo50.txt\"\n",
    "\n",
    "# Abra o arquivo para escrita\n",
    "with open(nome_arquivo, 'w') as arquivo:\n",
    "    # Escreva a quantidade de vértices e número de arestas na primeira linha\n",
    "    arquivo.write(f\"{num_vertices} {grafo.number_of_edges()}\\n\")\n",
    "\n",
    "    # Escreva as arestas no formato de lista de adjacência\n",
    "    for aresta in grafo.edges():\n",
    "        arquivo.write(f\"{aresta[0]+1} {aresta[1]+1}\\n\")  # +1 para ajustar os índices (começando em 1)\n",
    "\n",
    "print(f\"Grafo densamente conectado gerado e salvo em '{nome_arquivo}'.\")"
   ]
  },
  {
   "cell_type": "markdown",
   "metadata": {},
   "source": [
    "#### *Código para validação dos resultado*"
   ]
  },
  {
   "cell_type": "code",
   "execution_count": null,
   "metadata": {},
   "outputs": [],
   "source": [
    "# Nome do arquivo de entrada\n",
    "nome_arquivo = \"grafo.txt\"\n",
    "\n",
    "# Abrir o arquivo e pular a primeira linha\n",
    "with open(nome_arquivo, 'r') as arquivo:\n",
    "    next(arquivo)  # Pula a primeira linha\n",
    "\n",
    "    # Lê o grafo a partir das linhas restantes\n",
    "    G = nx.parse_adjlist(arquivo)\n",
    "\n",
    "# Encontrar todas as cliques maximais\n",
    "cliques_maximais = list(nx.find_cliques(G))\n",
    "\n",
    "# Encontrar a clique máxima (a maior)\n",
    "clique_maxima = max(cliques_maximais, key=len)\n",
    "\n",
    "print(\"Cliques maximais encontradas:\")\n",
    "for clique in cliques_maximais:\n",
    "    print(clique)\n",
    "\n",
    "print(\"Clique máxima encontrada:\", clique_maxima)"
   ]
  },
  {
   "cell_type": "markdown",
   "metadata": {},
   "source": [
    "-------------"
   ]
  },
  {
   "cell_type": "markdown",
   "metadata": {},
   "source": [
    "#### *Etapa 1: Abordagem Exaustiva*"
   ]
  },
  {
   "cell_type": "markdown",
   "metadata": {},
   "source": [
    "#### *Código C++ usando busca exaustiva para encontrar a clique máxima*"
   ]
  },
  {
   "cell_type": "markdown",
   "metadata": {},
   "source": [
    "```cpp\n",
    "#include <iostream>\n",
    "#include <fstream>\n",
    "#include <vector>\n",
    "#include <algorithm>\n",
    "\n",
    "// Função para ler o grafo a partir do arquivo de entrada\n",
    "std::vector<std::vector<int>> LerGrafo(const std::string& nomeArquivo, int& numVertices) {\n",
    "    std::ifstream arquivo(nomeArquivo);\n",
    "    int numArestas;\n",
    "    arquivo >> numVertices >> numArestas;\n",
    "\n",
    "    // Inicializa a matriz de adjacência com zeros\n",
    "    std::vector<std::vector<int>> grafo(numVertices, std::vector<int>(numVertices, 0));\n",
    "\n",
    "    // Lê as arestas e preenche a matriz de adjacência\n",
    "    for (int i = 0; i < numArestas; ++i) {\n",
    "        int u, v;\n",
    "        arquivo >> u >> v;\n",
    "        grafo[u - 1][v - 1] = 1;\n",
    "        grafo[v - 1][u - 1] = 1;  // O grafo é não direcionado\n",
    "    }\n",
    "\n",
    "    arquivo.close();\n",
    "    return grafo;\n",
    "}\n",
    "\n",
    "// Função para encontrar a clique máxima usando abordagem exaustiva\n",
    "void EncontrarCliqueMaxima(const std::vector<std::vector<int>>& grafo, int numVertices, std::vector<int>& cliqueMaxima) {\n",
    "    // Inicializa os candidatos com todos os vértices do grafo\n",
    "    std::vector<int> candidatos(numVertices);\n",
    "    for (int i = 0; i < numVertices; ++i) {\n",
    "        candidatos[i] = i;\n",
    "    }\n",
    "\n",
    "    // Vetor auxiliar para a clique atual\n",
    "    std::vector<int> cliqueAtual;\n",
    "\n",
    "    // Função lambda recursiva para encontrar cliques\n",
    "    std::function<void(std::vector<int>&, std::vector<int>&)> EncontrarCliques;\n",
    "    EncontrarCliques = [&](std::vector<int>& cliqueAtual, std::vector<int>& candidatos) {\n",
    "        for (size_t i = 0; i < candidatos.size(); ++i) {\n",
    "            int v = candidatos[i];\n",
    "            std::vector<int> novosCandidatos;\n",
    "\n",
    "            // Filtra os candidatos para aqueles que são adjacentes ao vértice atual v\n",
    "            for (size_t j = i + 1; j < candidatos.size(); ++j) {\n",
    "                int u = candidatos[j];\n",
    "                if (grafo[v][u]) {\n",
    "                    novosCandidatos.push_back(u);\n",
    "                }\n",
    "            }\n",
    "\n",
    "            // Adiciona o vértice atual à clique\n",
    "            cliqueAtual.push_back(v);\n",
    "\n",
    "            // Atualiza a clique máxima se a clique atual for maior\n",
    "            if (cliqueAtual.size() > cliqueMaxima.size()) {\n",
    "                cliqueMaxima = cliqueAtual;\n",
    "            }\n",
    "\n",
    "            // Chama recursivamente para explorar com os novos candidatos\n",
    "            if (!novosCandidatos.empty()) {\n",
    "                EncontrarCliques(cliqueAtual, novosCandidatos);\n",
    "            }\n",
    "\n",
    "            // Remove o vértice da clique atual ao voltar na recursão\n",
    "            cliqueAtual.pop_back();\n",
    "        }\n",
    "    };\n",
    "\n",
    "    // Inicia a busca pela clique máxima\n",
    "    EncontrarCliques(cliqueAtual, candidatos);\n",
    "}\n",
    "\n",
    "int main() {\n",
    "    int numVertices;\n",
    "    std::string nomeArquivo = \"grafo.txt\";\n",
    "    \n",
    "    // Lê o grafo do arquivo e armazena como matriz de adjacência\n",
    "    std::vector<std::vector<int>> grafo = LerGrafo(nomeArquivo, numVertices);\n",
    "\n",
    "    // Vetor para armazenar a clique máxima encontrada\n",
    "    std::vector<int> cliqueMaxima;\n",
    "    \n",
    "    // Encontra a clique máxima\n",
    "    EncontrarCliqueMaxima(grafo, numVertices, cliqueMaxima);\n",
    "\n",
    "    // Exibe o resultado\n",
    "    std::cout << \"Tamanho da clique máxima: \" << cliqueMaxima.size() << std::endl;\n",
    "    std::cout << \"Vértices da clique máxima: \";\n",
    "    for (int v : cliqueMaxima) {\n",
    "        std::cout << (v + 1) << \" \"; // Exibindo os vértices na notação 1-baseada\n",
    "    }\n",
    "    std::cout << std::endl;\n",
    "\n",
    "    return 0;\n",
    "}\n",
    "```"
   ]
  },
  {
   "cell_type": "markdown",
   "metadata": {},
   "source": [
    "#### *Aproveite para pensar se é possível adotar alguma heurística. Por exemplo, ordenar os nós em função do grau de adjacência, ajuda?*"
   ]
  },
  {
   "cell_type": "markdown",
   "metadata": {},
   "source": [
    "Sim, ordenar os nós pelo grau de adjacência pode ajudar. Isso se deve ao fato de que vértices com graus mais altos têm mais conexões, aumentando a probabilidade de formar cliques maiores. Ordenando os nós em ordem decrescente de grau, o algoritmo pode priorizar nós mais \"conectados\", encontrando cliques maiores mais rapidamente. Essa abordagem ajuda na **heurística gulosa**, onde tentamos primeiro explorar os vértices mais conectados para aumentar a clique.\n",
    "\n",
    "**Implementação da Heurística no Pseudo-Código:**\n",
    "\n",
    "```cpp\n",
    "Função OrdenarPorGrau(grafo, numVertices):\n",
    "    graus = []\n",
    "    Para i de 0 até numVertices - 1:\n",
    "        grau = ContarArestas(grafo[i])  # Conta o número de conexões (aresta) de cada nó\n",
    "        Adicione (i, grau) em graus  # Adiciona o vértice e seu grau como um par\n",
    "    Fim Para\n",
    "    \n",
    "    Ordene graus em ordem decrescente de grau\n",
    "    candidatosOrdenados = [par[0] para cada par em graus]  # Extrai os vértices ordenados\n",
    "    Retorne candidatosOrdenados\n",
    "Fim Função\n",
    "```"
   ]
  },
  {
   "cell_type": "markdown",
   "metadata": {},
   "source": [
    "#### *Até qual tamanho de problema você conseguiu obter um resultado em tempo hábil (aprox. 15 min)? Você deve apresentar um pseudo-codigo de uma heurística para otimizar essa tarefa exaustiva. É possível implementar alguma poda? Algum critério que evite calcular um nó, dado que você já descobriu uma clique maior?*"
   ]
  },
  {
   "cell_type": "markdown",
   "metadata": {},
   "source": [
    "Para o método exaustivo, o tempo de execução cresce exponencialmente conforme o número de vértices. Em muitos testes, um grafo com até **20-30 vértices** e grau moderado (número de arestas) pode ser resolvido em menos de 15 minutos, dependendo do hardware e das conexões do grafo. Acima disso, a abordagem exaustiva tende a ser inviável, especialmente para grafos densamente conectados.\n",
    "\n",
    "O primeiro teste foi realizado com o grafo com os parâmetros padrão do código-fonte fornecido, que possui 1000 vértices e uma probabilidade de conexão de 0.7. Por conta desses parâmetros elevados a abordagem de busca exaustiva se tornou inviável, pois o tempo de execução foi muito alto, como mostrado na foto abaixo:\n",
    "\n",
    "![Testes](imgs/teste_exaustiva1000.png)\n",
    "\n",
    "Esse tempo de execução mostra o momento em que o código foi interrompido, pois o tempo de execução estava muito alto.\n"
   ]
  },
  {
   "cell_type": "markdown",
   "metadata": {},
   "source": [
    "#### 3. Pseudo-código de Heurística para Otimizar a Tarefa Exaustiva\n",
    "\n",
    "Uma heurística para otimizar a abordagem exaustiva é **usar poda** e **critério de parada precoce**:\n",
    "\n",
    "- **Poda**: interrompe a exploração de uma possível clique se não for possível superá-la em tamanho em relação a uma clique máxima já encontrada.\n",
    "- **Critério de parada**: se, ao explorar nós conectados a um subconjunto atual, descobrirmos que é impossível encontrar uma clique maior do que a já descoberta, abandonamos aquela linha de exploração.\n",
    "\n",
    "#### Pseudo-Código com Poda e Critério de Parada:\n",
    "\n",
    "```cpp\n",
    "Função EncontrarCliqueMaximaOtimizada(grafo, numVertices):\n",
    "    cliqueMaxima = ListaVazia()\n",
    "    candidatos = OrdenarPorGrau(grafo, numVertices)\n",
    "\n",
    "    Função Recursiva EncontrarCliques(cliqueAtual, candidatos):\n",
    "        Se tamanho(cliqueAtual) + tamanho(candidatos) <= tamanho(cliqueMaxima):\n",
    "            Retorne  # Poda: se não há potencial para clique maior, interrompe a recursão\n",
    "\n",
    "        Para cada v em candidatos:\n",
    "            novosCandidatos = [u para cada u em candidatos se grafo[v][u] == 1]  # Filtra adjacentes\n",
    "            cliqueAtual.append(v)\n",
    "\n",
    "            Se tamanho(cliqueAtual) > tamanho(cliqueMaxima):\n",
    "                cliqueMaxima = copia(cliqueAtual)  # Atualiza clique máxima\n",
    "\n",
    "            Se novosCandidatos não estiver vazio:\n",
    "                EncontrarCliques(cliqueAtual, novosCandidatos)\n",
    "\n",
    "            cliqueAtual.pop_back()  # Remove v ao voltar na recursão\n",
    "    Fim Função\n",
    "\n",
    "    EncontrarCliques(ListaVazia(), candidatos)\n",
    "    Retorne cliqueMaxima\n",
    "Fim Função\n",
    "```\n",
    "\n",
    "Isso ajuda a reduzir o número de combinações e, em muitos casos, melhora o tempo de execução.\n",
    "\n",
    "Essas otimizações ajudarão a abordar o problema com maior eficiência, especialmente na abordagem exaustiva, permitindo resolver instâncias um pouco maiores dentro de um limite de tempo razoável."
   ]
  },
  {
   "cell_type": "markdown",
   "metadata": {},
   "source": [
    "-------------"
   ]
  },
  {
   "cell_type": "markdown",
   "metadata": {},
   "source": [
    "#### *Etapa 2: Implementação com Threads OpenMP*"
   ]
  },
  {
   "cell_type": "markdown",
   "metadata": {},
   "source": [
    "#### *Código C++ usando OpenMP para encontrar a clique máxima*"
   ]
  },
  {
   "cell_type": "markdown",
   "metadata": {},
   "source": []
  },
  {
   "cell_type": "markdown",
   "metadata": {},
   "source": [
    "Abordagem Exaustiva:\n",
    "Tamanho da clique máxima: 4\n",
    "Vértices da clique máxima: 12 13 14 15 \n",
    "Tempo de execução: 8.65e-06 segundos\n",
    " \n",
    "Abordagem com OpenMP:\n",
    "Tamanho da clique máxima: 4\n",
    "Vértices da clique máxima: 12 13 14 15 \n",
    "Tempo de execução: 3.8029e-05 segundos"
   ]
  }
 ],
 "metadata": {
  "kernelspec": {
   "display_name": "Python 3",
   "language": "python",
   "name": "python3"
  },
  "language_info": {
   "codemirror_mode": {
    "name": "ipython",
    "version": 3
   },
   "file_extension": ".py",
   "mimetype": "text/x-python",
   "name": "python",
   "nbconvert_exporter": "python",
   "pygments_lexer": "ipython3",
   "version": "3.10.12"
  }
 },
 "nbformat": 4,
 "nbformat_minor": 2
}
