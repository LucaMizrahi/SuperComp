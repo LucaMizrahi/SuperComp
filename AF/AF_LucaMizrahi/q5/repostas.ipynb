{
 "cells": [
  {
   "cell_type": "markdown",
   "metadata": {},
   "source": [
    "## Q5 - PF - Luca Mizrahi"
   ]
  },
  {
   "cell_type": "markdown",
   "metadata": {},
   "source": [
    "#### *Descreva com suas palavras o que é paralelismo, diferenciando-o do processamento sequencial. Relacione sua reposta com o conceito de escalabilidade.*"
   ]
  },
  {
   "cell_type": "markdown",
   "metadata": {},
   "source": [
    "O paralelismo é uma abordagem na computação que consiste em dividir um problema em várias partes menores que podem ser resolvidas simultaneamente, utilizando múltiplos recursos de processamento, como núcleos de CPU, GPUs ou processos distribuídos em diferentes máquinas. Em contrapartida, o processamento sequencial executa as tarefas de forma linear, uma de cada vez, sem sobreposição de execução.\n",
    "\n",
    "A principal diferença entre os dois reside na eficiência e no tempo necessário para completar uma tarefa. No processamento sequencial, cada etapa deve ser concluída antes de a próxima começar, o que pode se tornar ineficiente para problemas grandes ou complexos. Já no paralelismo, várias etapas ou cálculos são realizados simultaneamente, aproveitando melhor os recursos disponíveis e reduzindo significativamente o tempo de execução.\n",
    "\n",
    "Esse conceito está diretamente relacionado à escalabilidade, que é a capacidade de um sistema de lidar com aumentos na carga de trabalho ou no tamanho do problema, mantendo ou até melhorando o desempenho. Um sistema escalável aproveita o paralelismo para crescer em eficiência conforme mais recursos (como núcleos ou máquinas) são adicionados. Por exemplo, em um problema onde 1000 cálculos precisam ser realizados, um sistema sequencial levaria 1000 unidades de tempo (assumindo 1 cálculo por unidade). Em um sistema paralelo ideal, com 10 núcleos, o mesmo problema poderia ser resolvido em aproximadamente 100 unidades de tempo, demonstrando uma escalabilidade linear."
   ]
  },
  {
   "cell_type": "markdown",
   "metadata": {},
   "source": [
    "#### *O conceito de balanceamento de carga em computação paralela refere-se à distribuição equitativa do trabalho entre todos os processadores ou núcleos disponíveis em um sistema de computação paralelo. Por que é importante? Quais técnicas podem ser usadas para alcançar um balanceamento efetivo?*"
   ]
  },
  {
   "cell_type": "markdown",
   "metadata": {},
   "source": [
    "O balanceamento de carga em computação paralela é essencial para garantir que todos os processadores ou núcleos sejam utilizados de maneira eficiente, evitando que alguns fiquem ociosos enquanto outros são sobrecarregados. Sem um balanceamento adequado, o desempenho do sistema é prejudicado, aumentando o tempo total de execução e desperdiçando recursos. Isso é especialmente crítico em sistemas distribuídos, onde atrasos podem ocorrer devido à comunicação entre nós. Técnicas para alcançar um balanceamento efetivo incluem a divisão estática do trabalho, onde a carga é distribuída antes da execução; o escalonamento dinâmico, que aloca tarefas em tempo de execução com base na disponibilidade dos processadores; e o balanceamento híbrido, que combina estratégias estáticas e dinâmicas. Além disso, a criação de tarefas mais finas (granularidade) e o monitoramento contínuo do desempenho ajudam a ajustar a carga durante a execução. Um balanceamento bem projetado assegura o uso uniforme dos recursos, melhorando o desempenho e a escalabilidade do sistema."
   ]
  }
 ],
 "metadata": {
  "language_info": {
   "name": "python"
  }
 },
 "nbformat": 4,
 "nbformat_minor": 2
}
