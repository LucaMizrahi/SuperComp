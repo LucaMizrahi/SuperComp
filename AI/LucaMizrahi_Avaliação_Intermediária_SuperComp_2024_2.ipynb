{
  "cells": [
    {
      "cell_type": "markdown",
      "metadata": {
        "id": "YCrALvzjFdss"
      },
      "source": [
        "# Insper\n",
        "\n",
        "## Supercomputação - Avaliação Intermediária - 2º semestre de 2024\n",
        "\n",
        "#### SEU NOME: Luca Mizrahi\n",
        "\n",
        "**Regras da prova**:\n",
        "\n",
        "SOBRE HORÁRIOS:\n",
        "- A prova estará liberada no Blackboard das 07h30 às 23h59 de 01/outubro/2024 (horário de Brasília);\n",
        "- A prova tem duração aproximada de 03 horas (180 minutos);\n",
        "- O aluno poderá realizar a prova ao longo do dia, no(s) horário(s) e espaço(s) de tempo que melhor lhe convier. Ao iniciar a prova você não precisará ficar 3 horas seguidas na sua realização;\n",
        "\n",
        "SOBRE DÚVIDAS:\n",
        "- O professor NÃO estará disponível fisicamente no Insper. O aluno que quiser tirar dúvidas, poderá fazê-lo via grupo de WhatsApp da prova. O link é: https://chat.whatsapp.com/IcnoFr2LkON1iYltj9SgDY\n",
        "\n",
        "SOBRE SUBMISSÕES DA PROVA E DO PROJETO:\n",
        "- A submissão da prova deve ser feita impreterivelmente até às 23h59 de 01/outubro/2024 (horário de Brasília). NÃO serão aceitas submissões após este horário;\n",
        "- O aluno poderá fazer múltiplas submissões da prova. O sistema considerará a última submissão como oficial;\n",
        "- A submissão da prova pode ser a resolução no jupyter notebook exportado no Colab ou ZIP com arquivos “.cpp” devidamente sinalizados (a qual questão se referenciam);\n",
        "\n",
        "SOBRE A RESOLUÇÃO DA PROVA:\n",
        "- A interpretação do enunciado faz parte da avaliação;\n",
        "- É permitida a consulta ao material da disciplina (tudo o que estiver no repositório do Github da disciplina e no site https://liciascl.github.io/supercomp/. Isso também inclui suas próprias soluções aos exercícios de sala de aula, mas não inclui materiais não digitais, tampouco outros materiais além dos citados;\n",
        "- É permitido consultar a documentação de C++ nos sites oficiais e links extras dos próprios enunciados;\n",
        "- Seu pseudocódigo deve ser feito em Português, incluindo nomes de variáveis e comentários;\n",
        "\n",
        "\n",
        "SOBRE QUESTÕES DE ÉTICA E PLÁGIO:\n",
        "- A prova é individual. Qualquer consulta a outras pessoas durante a prova constitui violação do código de ética do Insper;\n",
        "- Qualquer tentativa de fraude, como trechos idênticos ou muito similares, implicará em NOTA ZERO na prova a todos os envolvidos, sem prejuízo de outras sanções;\n",
        "- Uso de Copilot ou ChatGPT ou correlatos para resolução pode implicar trechos similares entre alunos, caindo no item acima. Cuidado!\n",
        "\n",
        "**_Boa prova!_**\n"
      ]
    },
    {
      "cell_type": "markdown",
      "metadata": {
        "id": "b9WD4WL9-TCc"
      },
      "source": [
        "# [2,0 pontos] Questão 01 - Problema do Subconjunto de Soma\n",
        "\n",
        "**Contexto:**\n",
        "\n",
        "O Problema do Subconjunto de Soma é um desafio clássico em ciência da computação e matemática, que se enquadra na categoria de problemas NP-Completo. Ele questiona se, dado um conjunto de números inteiros e um valor alvo, existe um subconjunto desses números cuja soma é igual ao valor alvo. Apesar de sua simplicidade conceitual, resolver este problema pode se tornar computacionalmente intensivo à medida que o tamanho do conjunto aumenta, tornando abordagens exaustivas impraticáveis para grandes conjuntos. Portanto, heurísticas e métodos aproximados se tornam ferramentas valiosas para encontrar soluções em tempo razoável.\n",
        "\n",
        "**Questão:**\n",
        "\n",
        "Considere um conjunto \\( S = \\{s_1, s_2, ..., s_n\\} \\) de números inteiros positivos e um valor alvo \\( T \\). Seu objetivo é desenvolver uma heurística para determinar se existe um subconjunto de \\( S \\) cuja soma é igual a \\( T \\). Sua solução não precisa ser ótima, mas deve ser capaz de encontrar uma resposta em um tempo razoável, mesmo para grandes valores de \\( n \\).\n",
        "\n",
        "Para atingir este objetivo, você deve implementar o seguinte algoritmo heurístico em C++:\n",
        "\n",
        "1. **Pré-processamento:** Ordene os números em \\( S \\) em ordem decrescente. Este passo visa a maximizar a eficiência da sua heurística, permitindo que grandes somas sejam alcançadas rapidamente, potencialmente aproximando-se de \\( T \\) mais rapidamente.\n",
        "\n",
        "2. **Heurística de Aproximação:** Implemente uma função que percorra os números em \\( S \\) na ordem definida. Para cada número \\( s_i \\), decida se deve ou não incluí-lo no subconjunto candidato com base em uma regra heurística simples.\n",
        "\n",
        "3. **Verificação e Saída:** Se, ao final do processo, a soma dos números no subconjunto candidato for igual a \\( T \\), sua função deve retornar `true`, indicando que uma solução foi encontrada. Caso contrário, retorne `false`.\n",
        "\n",
        "**Pede-se**:\n",
        "1. Implemente o algoritmo heurístico descrito acima em C++. (entregue o código)\n",
        "2. Faça cenários de teste e comprove a corretude da sua solução.  \n",
        "3. Discuta a eficácia da sua heurística. Em que cenários ela pode falhar em encontrar um subconjunto existente que some \\( T \\)? (entregue sua resposta justificada)\n",
        "\n",
        "\n",
        "**DICA**:\n",
        "\n",
        "Uma possível assinatura da sua função é:\n",
        "```cpp\n",
        "bool subsetSum(const vector<int>& set, int sum);\n",
        "```\n",
        "\n",
        "\n",
        "\n"
      ]
    },
    {
      "cell_type": "markdown",
      "metadata": {
        "id": "OYSlHS46KNve"
      },
      "source": [
        "#### *Solução*:"
      ]
    },
    {
      "cell_type": "markdown",
      "metadata": {
        "id": "4-m4RfnfKNyC"
      },
      "source": [
        "```cpp\n",
        "#include <iostream>\n",
        "#include <vector>\n",
        "#include <algorithm> // para sort\n",
        "#include <chrono> // para contagem de tempo\n",
        "\n",
        "// Função que implementa a heurística para o problema do subconjunto de soma\n",
        "bool subsetSum(const std::vector<int>& set, int sum) {\n",
        "    std::vector<int> sortedSet = set;\n",
        "\n",
        "    // Passo 1: Ordenar o conjunto em ordem decrescente\n",
        "    std::sort(sortedSet.begin(), sortedSet.end(), std::greater<int>());\n",
        "\n",
        "    int currentSum = 0;\n",
        "    \n",
        "    // Passo 2: Iterar sobre os elementos e decidir se inclui no subconjunto\n",
        "    for (int num : sortedSet) {\n",
        "        if (currentSum + num <= sum) {\n",
        "            currentSum += num;\n",
        "        }\n",
        "\n",
        "        // Passo 3: Verificar se a soma já atingiu o valor alvo\n",
        "        if (currentSum == sum) {\n",
        "            return true;\n",
        "        }\n",
        "    }\n",
        "\n",
        "    // Se não for possível alcançar a soma alvo, retorne falso\n",
        "    return false;\n",
        "}\n",
        "\n",
        "int main() {\n",
        "    // Cenários de teste\n",
        "    std::vector<int> set1 = {3, 34, 4, 12, 5, 2};\n",
        "    int target1 = 9;\n",
        "\n",
        "    std::vector<int> set2 = {1, 2, 3, 4, 5, 6};\n",
        "    int target2 = 11;\n",
        "\n",
        "    std::vector<int> set3 = {10, 20, 30};\n",
        "    int target3 = 25;\n",
        "\n",
        "    // Cenário 4: n = 1000\n",
        "    std::vector<int> set4;\n",
        "    int target4 = 5000;\n",
        "    for (int i = 1; i <= 1000; ++i) {\n",
        "        set4.push_back(i);\n",
        "    }\n",
        "\n",
        "    // Cenário 5: n = 10000\n",
        "    std::vector<int> set5;\n",
        "    int target5 = 200000;\n",
        "    for (int i = 1; i <= 10000; ++i) {\n",
        "        set5.push_back(i * 2);\n",
        "    }\n",
        "\n",
        "    // Cenário 6: n = 100000\n",
        "    std::vector<int> set6;\n",
        "    int target6 = 50000;\n",
        "    for (int i = 1; i <= 100000; ++i) {\n",
        "        set6.push_back(i);\n",
        "    }\n",
        "\n",
        "    // Testes com contagem de tempo\n",
        "    auto start1 = std::chrono::high_resolution_clock::now();\n",
        "    bool result1 = subsetSum(set1, target1);\n",
        "    auto end1 = std::chrono::high_resolution_clock::now();\n",
        "    std::chrono::duration<double> elapsed1 = end1 - start1;\n",
        "    std::cout << \"Teste 1: \" << (result1 ? \"true\" : \"false\") << \" - Tempo: \" << elapsed1.count() << \" segundos\" << std::endl;\n",
        "\n",
        "    auto start2 = std::chrono::high_resolution_clock::now();\n",
        "    bool result2 = subsetSum(set2, target2);\n",
        "    auto end2 = std::chrono::high_resolution_clock::now();\n",
        "    std::chrono::duration<double> elapsed2 = end2 - start2;\n",
        "    std::cout << \"Teste 2: \" << (result2 ? \"true\" : \"false\") << \" - Tempo: \" << elapsed2.count() << \" segundos\" << std::endl;\n",
        "\n",
        "    auto start3 = std::chrono::high_resolution_clock::now();\n",
        "    bool result3 = subsetSum(set3, target3);\n",
        "    auto end3 = std::chrono::high_resolution_clock::now();\n",
        "    std::chrono::duration<double> elapsed3 = end3 - start3;\n",
        "    std::cout << \"Teste 3: \" << (result3 ? \"true\" : \"false\") << \" - Tempo: \" << elapsed3.count() << \" segundos\" << std::endl;\n",
        "\n",
        "    // Teste 4 com n = 5000\n",
        "    auto start4 = std::chrono::high_resolution_clock::now();\n",
        "    bool result4 = subsetSum(set4, target4);\n",
        "    auto end4 = std::chrono::high_resolution_clock::now();\n",
        "    std::chrono::duration<double> elapsed4 = end4 - start4;\n",
        "    std::cout << \"Teste 4 (n = 1000): \" << (result4 ? \"true\" : \"false\") << \" - Tempo: \" << elapsed4.count() << \" segundos\" << std::endl;\n",
        "\n",
        "    // Teste 5 com n = 10000\n",
        "    auto start5 = std::chrono::high_resolution_clock::now();\n",
        "    bool result5 = subsetSum(set5, target5);\n",
        "    auto end5 = std::chrono::high_resolution_clock::now();\n",
        "    std::chrono::duration<double> elapsed5 = end5 - start5;\n",
        "    std::cout << \"Teste 5 (n = 10000): \" << (result5 ? \"true\" : \"false\") << \" - Tempo: \" << elapsed5.count() << \" segundos\" << std::endl;\n",
        "\n",
        "    // Teste 6 com n = 100000\n",
        "    auto start6 = std::chrono::high_resolution_clock::now();\n",
        "    bool result6 = subsetSum(set6, target6);\n",
        "    auto end6 = std::chrono::high_resolution_clock::now();\n",
        "    std::chrono::duration<double> elapsed6 = end6 - start6;\n",
        "    std::cout << \"Teste 6 (n = 100000): \" << (result6 ? \"true\" : \"false\") << \" - Tempo: \" << elapsed6.count() << \" segundos\" << std::endl;\n",
        "\n",
        "    return 0;\n",
        "}\n",
        "```\n"
      ]
    },
    {
      "cell_type": "markdown",
      "metadata": {},
      "source": [
        "O código está funcionando muito bem para as entradas testadas, e como esperado quanto maior o n mais tempo o código leva para rodar. Vale ressaltar que a maioria dos testes o conjunto já está ordenado, o que facilita a execução do código."
      ]
    },
    {
      "cell_type": "markdown",
      "metadata": {},
      "source": [
        "![Testes_ex1](ex1/ex1_AI_SuperComp.png)"
      ]
    },
    {
      "cell_type": "markdown",
      "metadata": {
        "id": "WLPOXHoDTfdU"
      },
      "source": [
        "#### *Discussão sobre a eficácia da heurística*\n",
        "\n",
        "A heurística implementada utiliza uma abordagem onde o conjunto de números \\( S \\) é primeiro ordenado em ordem decrescente, e, em seguida, tenta-se somar os maiores elementos até que a soma atinja o valor alvo \\( T \\) ou o conjunto seja completamente percorrido. Essa estratégia busca maximizar a soma rapidamente, incluindo os maiores números disponíveis no subconjunto candidato, o que em muitos casos pode ser suficiente para encontrar uma solução, especialmente quando os maiores números têm grande impacto no valor da soma.\n",
        "\n",
        "#### *Cenários em que a heurística pode falhar:*\n",
        "\n",
        "Apesar de ser eficiente em muitos casos, a heurística não garante que sempre encontrará uma solução, mesmo quando um subconjunto com soma \\( T \\) existe. Existem cenários específicos em que essa abordagem pode falhar:\n",
        "\n",
        "- **Distribuição Irregular dos Números (combinatória mais complexa):**\n",
        "   - A heurística tende a ignorar combinações de números menores quando tenta primeiro somar os maiores. Isso pode ser problemático em casos onde a solução depende de várias combinações de números menores. Por exemplo, se \\( T \\) só pode ser alcançado somando uma combinação de vários números pequenos, a heurística pode falhar porque prioriza os números grandes, que ultrapassam ou não contribuem adequadamente para a soma.\n",
        "\n",
        "- **Conjuntos com Grande Variabilidade de Valores:**\n",
        "   - Quando o conjunto contém números com grande variabilidade de magnitude, a heurística pode acabar escolhendo grandes valores que se aproximam de \\( T \\), mas que acabam excluindo combinações de números menores que somam o valor exato. Nesses casos, a heurística perde eficiência ao tentar somar os maiores números, mesmo que eles não levem a uma solução.\n",
        "\n",
        "- **Casos com Subconjuntos Densos:**\n",
        "   - Em situações onde muitos números pequenos podem ser combinados de várias maneiras para atingir \\( T \\), a heurística pode ser ineficiente. Por exemplo, em problemas com muitos números menores, a soma ideal pode ser obtida por uma combinação precisa desses números, o que a abordagem gulosa dificilmente consegue identificar. \n",
        "\n",
        "- **Falsos Negativos:**\n",
        "   - Outro ponto de falha é o fato de a heurística ser otimizada para encontrar uma solução rapidamente, mas não garantir a exaustividade. Ela pode retornar \"false\" para casos onde existe uma solução, simplesmente porque seguiu uma ordem específica que ignorou subconjuntos válidos. Como não há exploração de todas as possibilidades, a heurística pode deixar de encontrar uma solução mesmo quando ela existe.\n",
        "\n",
        "#### *Conclusão sobre a heurística criada:*\n",
        "\n",
        "A heurística apresentada é eficiente em termos de tempo e pode encontrar soluções rapidamente para muitos casos, especialmente quando os maiores números desempenham um papel importante na soma. No entanto, sua limitação principal reside na sua incapacidade de lidar com combinações complexas de números pequenos ou altamente variados. Nesses casos, algoritmos mais robustos, como programação dinâmica ou backtracking, seriam mais adequados, embora com um custo computacional mais elevado. Portanto, essa heurística é recomendada para problemas onde a simplicidade e a eficiência temporal são prioritárias, mas pode falhar em fornecer uma solução em casos mais complexos."
      ]
    },
    {
      "cell_type": "markdown",
      "metadata": {},
      "source": [
        "----"
      ]
    },
    {
      "cell_type": "markdown",
      "metadata": {
        "id": "d9jNw4n4-TFd"
      },
      "source": [
        "# [2,0 pontos] Questão 02 - Solução Ótima\n",
        "\n",
        "A solução ótima do problema anterior é verificar todos os subconjuntos possíveis dos números de ( S ), calcular a soma de cada um deles e verificar se alguma destas soma é igual ao valor buscado. Essa solução, embora simples, pode não escalar bem para grandes entradas.\n",
        "\n",
        "\n",
        "**Pede-se**:\n",
        "1. Escreva o código da solução ótima em C++ (você pode usar recursão ou não)\n",
        ";\n",
        "2. Gere a solução para 10 entradas distintas em ordens de grandeza diferentes (algumas entradas pequenas, algumas médias, algumas grandes);\n",
        "3. Compare o tempo de execução deste código nas 10 entradas. O comportamento está alinhado com o esperado? Justifique.\n"
      ]
    },
    {
      "cell_type": "markdown",
      "metadata": {
        "id": "CgilWhpOhUUk"
      },
      "source": [
        "#### *Solução*:\n",
        "\n",
        "```cpp\n",
        "#include <iostream>\n",
        "#include <vector>\n",
        "#include <chrono> // para medir o tempo\n",
        "#include <cstdlib> // para gerar números aleatórios\n",
        "#include <ctime>   // para inicializar a seed do rand\n",
        "\n",
        "// Função recursiva que verifica se existe um subconjunto cuja soma seja igual a 'sum'\n",
        "bool subsetSumRecursive(const std::vector<int>& set, int n, int sum) {\n",
        "    // Caso base: se a soma for 0, o subconjunto é encontrado\n",
        "    if (sum == 0) return true;\n",
        "    \n",
        "    // Caso base: se não há mais elementos e a soma não foi encontrada\n",
        "    if (n == 0 && sum != 0) return false;\n",
        "\n",
        "    // Se o último elemento for maior que a soma, ignorá-lo\n",
        "    if (set[n-1] > sum) return subsetSumRecursive(set, n-1, sum);\n",
        "\n",
        "    // Verificar se a soma pode ser encontrada\n",
        "    // (1) incluindo o último elemento ou\n",
        "    // (2) não incluindo o último elemento\n",
        "    return subsetSumRecursive(set, n-1, sum) || subsetSumRecursive(set, n-1, sum - set[n-1]);\n",
        "}\n",
        "\n",
        "int main() {\n",
        "    // Inicializa a seed do gerador de números aleatórios\n",
        "    std::srand(std::time(0));\n",
        "\n",
        "    // Definindo 10 tamanhos para os conjuntos de teste, com tamanhos maiores para entradas médias e grandes\n",
        "    std::vector<int> setSizes = {6, 6, 50, 100, 500, 1000, 5000, 10000, 20000, 30000};\n",
        "\n",
        "    // Definindo os alvos para cada conjunto aleatório\n",
        "    std::vector<int> targets = {9, 11, 500, 1000, 300, 500, 1000, 1000, 1000, 1000};\n",
        "\n",
        "    // Gerar 10 conjuntos aleatórios e medir o tempo de execução da solução ótima\n",
        "    for (int i = 0; i < setSizes.size(); ++i) {\n",
        "        // Gerar um conjunto aleatório de tamanho setSizes[i]\n",
        "        std::vector<int> testSet(setSizes[i]);\n",
        "        for (int j = 0; j < setSizes[i]; ++j) {\n",
        "            testSet[j] = std::rand() % 100 + 1; // Números aleatórios entre 1 e 100\n",
        "        }\n",
        "\n",
        "        // Exibir o conjunto gerado para referência (limitar a exibição para conjuntos menores)\n",
        "        if (setSizes[i] <= 50) {\n",
        "            std::cout << \"Conjunto \" << (i + 1) << \": \";\n",
        "            for (int num : testSet) {\n",
        "                std::cout << num << \" \";\n",
        "            }\n",
        "            std::cout << \" - Alvo: \" << targets[i] << std::endl;\n",
        "        } else {\n",
        "            std::cout << \"Conjunto \" << (i + 1) << \" (Tamanho: \" << setSizes[i] << \") - Alvo: \" << targets[i] << std::endl;\n",
        "        }\n",
        "\n",
        "        // Medir o tempo de execução da solução ótima\n",
        "        auto start = std::chrono::high_resolution_clock::now();\n",
        "        bool result = subsetSumRecursive(testSet, testSet.size(), targets[i]);\n",
        "        auto end = std::chrono::high_resolution_clock::now();\n",
        "        std::chrono::duration<double> elapsed = end - start;\n",
        "\n",
        "        // Exibir o resultado e o tempo de execução\n",
        "        std::cout << \"Resultado: \" << (result ? \"true\" : \"false\") \n",
        "                  << \" - Tempo: \" << elapsed.count() << \" segundos\" << std::endl;\n",
        "        std::cout << \"---------------------------------------------------------\" << std::endl;\n",
        "    }\n",
        "\n",
        "    return 0;\n",
        "}\n",
        "```"
      ]
    },
    {
      "cell_type": "markdown",
      "metadata": {},
      "source": [
        "#### *Resultado dos Testes*:"
      ]
    },
    {
      "cell_type": "markdown",
      "metadata": {
        "id": "kqUOVatIhUht"
      },
      "source": [
        "![Testes_ex2](ex2/ex2_AI_SuperComp.png)"
      ]
    },
    {
      "cell_type": "markdown",
      "metadata": {
        "id": "xoRhqCGPhUmv"
      },
      "source": [
        "#### *Resposta*:\n",
        "\n",
        "O tempo de execução do código nas 10 entradas está alinhado com o esperado. Isso se deve ao fato de que a solução ótima, que verifica todos os subconjuntos possíveis, tem complexidade exponencial (**2^n**), o que significa que o tempo de execução aumenta exponencialmente com o tamanho do conjunto. Portanto, é esperado que o tempo de execução cresça significativamente à medida que o tamanho do conjunto aumenta. Além disso, algo que também influenciou consideravelmente o tempo de execução foi o target que foi escolhido para cada conjunto, pois quanto maior o target, mais subconjuntos precisam ser verificados. Sendo assim, o comportamento observado está alinhado com o esperado, e a solução ótima é eficaz para conjuntos pequenos, mas rapidamente se torna impraticável para conjuntos maiores devido à sua complexidade exponencial, especialmente quando o target é grande. Foi testado que para targets acima de 1000, o tempo de execução já é muito grande. \n",
        "\n",
        "Além disso, vale também ressaltar que as vezes o tempo de execução para entradas maiores pode ser menor que para entradas menores, dado que os conjuntos gerados são aleatórios e portanto, mesmo que o conjunto tenha mais números, o algoritmo pode encontrar uma solução mais rapidamente. No entanto, apesar desses casos, a tendência geral é que o tempo de execução aumente com o tamanho do conjunto e do target."
      ]
    },
    {
      "cell_type": "markdown",
      "metadata": {},
      "source": [
        "------"
      ]
    },
    {
      "cell_type": "markdown",
      "metadata": {
        "id": "lxumkH8xhU0d"
      },
      "source": [
        "# [1,5 ponto] Questão 03 - Aleatorização\n",
        "\n",
        "Em sala de aula, nós implementamos diversas estratégias para a mochila\n",
        "binária. Explique a importância de buscar um balanço entre _exploration_ e _exploitation_. Dê um exemplo de como buscamos atingir _exploration_ e outro de como buscamos atingir _exploitation_ no Problema do Subconjunto de Soma. Elabore um pseudocódigo que combine tais estratégias e avalie criticamente sua efetividade."
      ]
    },
    {
      "cell_type": "markdown",
      "metadata": {},
      "source": [
        "#### *Resposta*:"
      ]
    },
    {
      "cell_type": "markdown",
      "metadata": {},
      "source": [
        "No contexto de algoritmos de otimização, como no **Problema do Subconjunto de Soma**, encontrar um balanço entre _exploration_ e _exploitation_ é crucial. Se o algoritmo foca demais em **_exploration_**, ele pode gastar muito tempo explorando regiões menos promissoras, sem melhorar significativamente a solução. Por outro lado, se ele foca exclusivamente em **_exploitation_**, pode acabar preso em máximos ou mínimos locais, sem descobrir outras regiões do espaço de busca que poderiam conter soluções melhores.\n",
        "\n",
        "Uma forma de aplicar _exploration_ no **Problema do Subconjunto de Soma** é introduzindo **aleatorização** na escolha dos subconjuntos a serem verificados. Em vez de sempre seguir um padrão determinístico para escolher os elementos a serem incluídos no subconjunto, podemos incluir uma escolha aleatória. Isso permite que o algoritmo explore diferentes regiões do espaço de soluções, aumentando as chances de encontrar subconjuntos que não seriam verificados por uma abordagem puramente determinística.\n",
        "\n",
        "#### *Exemplos no Problema do Subconjunto de Soma*:\n",
        "\n",
        "Uma forma de aplicar _exploration_ no **Problema do Subconjunto de Soma** é introduzindo **aleatorização** na escolha dos subconjuntos a serem verificados. Em vez de sempre seguir um padrão determinístico para escolher os elementos a serem incluídos no subconjunto, podemos incluir uma escolha aleatória. Isso permite que o algoritmo explore diferentes regiões do espaço de soluções, aumentando as chances de encontrar subconjuntos que não seriam verificados por uma abordagem puramente determinística.\n",
        "\n",
        "Já Uma forma de aplicar _exploitation_ é priorizando subconjuntos que têm maior potencial de atingir a soma alvo, por exemplo, priorizando os elementos maiores que estão mais próximos de \\( T \\), ou seja, similar a heurística de ordenação decrescente implementada no exercício 1. O algoritmo explora intensivamente essas regiões do espaço de soluções, que são mais promissoras para encontrar a soma exata.\n",
        "\n"
      ]
    },
    {
      "cell_type": "markdown",
      "metadata": {
        "id": "8TL5WC_XhfSr"
      },
      "source": [
        "#### *Pseudocódigo Combinando Exploration e Exploitation*\n",
        "\n",
        "A seguir está um pseudocódigo que combina estratégias de _exploration_ (escolhas aleatórias) e _exploitation_ (heurística decrescente) para resolver o **Problema do Subconjunto de Soma**:\n",
        "\n",
        "```cpp\n",
        "ProblemaDoSubconjuntoDeSoma(S, T):\n",
        "    # S: Conjunto de elementos\n",
        "    # T: Soma alvo\n",
        "    Inicializar melhorSubconjunto = vazio\n",
        "    Inicializar melhorSoma = 0\n",
        "\n",
        "    Para i = 1 até MAX_ITER:\n",
        "        # Passo 1: Exploration - Selecionar subconjuntos aleatórios\n",
        "        subconjuntoAleatorio = escolherSubconjuntoAleatorio(S)\n",
        "        somaAleatoria = calcularSoma(subconjuntoAleatorio)\n",
        "\n",
        "        Se somaAleatoria == T:\n",
        "            Retornar subconjuntoAleatorio\n",
        "\n",
        "        Se somaAleatoria > melhorSoma e somaAleatoria <= T:\n",
        "            melhorSoma = somaAleatoria\n",
        "            melhorSubconjunto = subconjuntoAleatorio\n",
        "\n",
        "        # Passo 2: Exploitation - Selecionar subconjuntos de maneira decrescente\n",
        "        subconjuntoDecrescente = escolherSubconjuntoDecrescente(S, T)\n",
        "        somaDecrescente = calcularSoma(subconjuntoDecrescente)\n",
        "\n",
        "        Se somaDecrescente == T:\n",
        "            Retornar subconjuntoDecrescente\n",
        "\n",
        "        Se somaDecrescente > melhorSoma e somaDecrescente <= T:\n",
        "            melhorSoma = somaDecrescente\n",
        "            melhorSubconjunto = subconjuntoDecrescente\n",
        "\n",
        "    Retornar melhorSubconjunto\n",
        "```\n",
        "#### *Avaliação Crítica da Efetividade:*\n",
        "\n",
        "A fase de _exploration_ permite que o algoritmo explore diversas regiões do espaço de soluções, evitando que ele fique preso em uma região específica (como pode acontecer com uma abordagem puramente decrescente). No entanto, escolhas aleatórias podem ser ineficazes se muitas delas não estiverem próximas da solução ideal.\n",
        "\n",
        "A fase de _exploitation_ garante que o algoritmo explore regiões promissoras mais profundamente, concentrando o esforço nas melhores opções identificadas. Essa abordagem pode rapidamente melhorar a qualidade das soluções, mas corre o risco de se prender a máximos locais se não houver _exploration_ suficiente.\n",
        "\n",
        "O pseudocódigo tenta balancear as duas estratégias, alternando entre _exploration_ e _exploitation_ para maximizar as chances de encontrar uma solução ideal ou próxima da ideal. O sucesso dessa abordagem depende do número de iterações e do quão bem o algoritmo consegue equilibrar essas duas fases. O uso de aleatoriedade pode ser vantajoso no início da busca, mas à medida que o algoritmo convergir, _exploitation_ deve se tornar mais dominante. Sendo assim, essa nova abordagem seria mais eficaz do que apenas _exploration_ ou _exploitation_ isoladamente, mas ainda assim pode não ser suficiente para garantir a melhor solução em todos os casos, que é o caso da heurística implementada na questão 2."
      ]
    },
    {
      "cell_type": "markdown",
      "metadata": {},
      "source": [
        "----"
      ]
    },
    {
      "cell_type": "markdown",
      "metadata": {
        "id": "hP79VcwHNsOu"
      },
      "source": [
        "# [2,0  pontos] Questão 04 - GPU e Thrust\n",
        "\n",
        "1.\tAcesse o link abaixo e faça uma cópia no seu Google Drive: https://colab.research.google.com/drive/14_EZNglXn2VXe3kpDW3XgEsRkB6R1jjp?usp=sharing\n",
        "2.\tComplete o código seguindo a especificação. ATENÇÃO: você provavelmente precisará complementar os imports para o código rodar!\n",
        "3.\tBaixe sua cópia do notebook preenchido e executado, e disponibilize junto com sua solução.\n",
        "\n",
        "_OBSERVAÇÃO_: recomendo o uso do Colab na realização da questão de GPU. Use implementação e teste local por conta e risco. =)\n"
      ]
    },
    {
      "cell_type": "markdown",
      "metadata": {
        "id": "y9hkglWLOacA"
      },
      "source": [
        "#### *Solução*: \n",
        "O notebook com a resposta da questão está na pasta `ex4`"
      ]
    },
    {
      "cell_type": "markdown",
      "metadata": {},
      "source": [
        "-----"
      ]
    },
    {
      "cell_type": "markdown",
      "metadata": {
        "id": "Qa7y2wJn-zXz"
      },
      "source": [
        "# [1,5 pontos] Questão 05 - Busca global\n",
        "\n",
        "Um algoritmo de busca global, em termos gerais, é um algoritmo de otimização que procura encontrar a melhor solução possível para um problema dentro de um espaço de busca, considerando todas as possíveis soluções. Em outras palavras, ele tenta encontrar o máximo ou mínimo global de uma função objetivo em um domínio especificado.\n",
        "\n",
        "Em alguns problemas a \"busca global\" não se trata de uma otimização, mas de encontrar a única resposta correta possível. Por exemplo, o cálculo de Fibonacci é algoritmo que dado um número `N`, o `fib(N)` assume apenas um valor correto.\n",
        "\n",
        "Observe o código abaixo para cálculo do Fibonacci. Altere o programa para receber `N` como uma entrada, e rode o programa para alguns valores de N, tanto pequenos (abaixo de 30) quanto grandes (acima de 30 --- só não exagere!), comparando os tempos de execução.  \n",
        "\n",
        "Código-fonte:\n",
        "\n",
        "```cpp\n",
        "#include <iostream>\n",
        "\n",
        "int fib(int n) {\n",
        "    if (n <= 1) {\n",
        "        return n;\n",
        "    } else {\n",
        "        return fib(n - 1) + fib(n - 2);\n",
        "    }\n",
        "}\n",
        "\n",
        "int main() {\n",
        "    int n = 30; // Valor de n para calcular Fibonacci\n",
        "    int result = fib(n);\n",
        "    std::cout << \"Fibonacci de \" << n << \" é \" << result << std::endl;\n",
        "    return 0;\n",
        "}\n",
        "```\n",
        "\n",
        "Note que tempo de execução para esta implementação aumenta consideravelmente quando `N` cresce.\n",
        "\n",
        "**Pede-se**: Implemente  uma otimização para esse algoritmo de modo que sua implementação seja pela abordagem de memorização (*memoization*), ou seja, salvar cálculos já realizados para reaproveitá-los. Apresente código-fonte, resultados e compare os resultados de tempo de execução obtidos."
      ]
    },
    {
      "cell_type": "markdown",
      "metadata": {
        "id": "AaLQhYW_hi2j"
      },
      "source": [
        "##### *Solução*:\n",
        "\n",
        "```cpp\n",
        "#include <iostream>\n",
        "#include <vector>\n",
        "#include <chrono> // Biblioteca para medir o tempo\n",
        "\n",
        "// Função auxiliar que usa memorização para calcular Fibonacci\n",
        "int fibMemo(int n, std::vector<int>& memo) {\n",
        "    if (n <= 1) {\n",
        "        return n;\n",
        "    }\n",
        "    // Se o valor já foi calculado antes, retorná-lo\n",
        "    if (memo[n] != -1) {\n",
        "        return memo[n];\n",
        "    }\n",
        "    // Caso contrário, calculamos e armazenamos o resultado\n",
        "    memo[n] = fibMemo(n - 1, memo) + fibMemo(n - 2, memo);\n",
        "    return memo[n];\n",
        "}\n",
        "\n",
        "int fib(int n) {\n",
        "    std::vector<int> memo(n + 1, -1); // Inicializamos o vetor de memorização com -1\n",
        "    return fibMemo(n, memo);\n",
        "}\n",
        "\n",
        "int main() {\n",
        "    int n;\n",
        "    std::cout << \"Digite o valor de N para calcular Fibonacci: \";\n",
        "    std::cin >> n;\n",
        "\n",
        "    // Medir o tempo de execução da função otimizada (com memorização)\n",
        "    auto start = std::chrono::high_resolution_clock::now();\n",
        "    int result = fib(n);\n",
        "    auto end = std::chrono::high_resolution_clock::now();\n",
        "\n",
        "    // Exibir o resultado e o tempo de execução\n",
        "    std::cout << \"Fibonacci de \" << n << \" é \" << result << std::endl;\n",
        "    std::chrono::duration<double> elapsed = end - start;\n",
        "    std::cout << \"Tempo de execução (com memorização): \" << elapsed.count() << \" segundos\" << std::endl;\n",
        "\n",
        "    return 0;\n",
        "}\n",
        "```"
      ]
    },
    {
      "cell_type": "markdown",
      "metadata": {
        "id": "9v7FlTythi6j"
      },
      "source": [
        "#### Testes com *N = 40*:\n",
        "\n",
        "*Teste - Código Original (sem memorização):*\n",
        "\n",
        "![Testes_ex5](ex5/ex5_AI_SuperComp_original.png)\n",
        "\n",
        "*Teste - Código Otimizado (com memorização):*\n",
        "\n",
        "![Testes_ex5](ex5/ex5_AI_SuperComp_otimizado.png)\n"
      ]
    },
    {
      "cell_type": "markdown",
      "metadata": {
        "id": "tioVOtYkfd11"
      },
      "source": [
        "#### Comparação dos Resultados:\n",
        "\n",
        "A implementação otimizada com memorização é significativamente mais rápida do que a implementação original, especialmente para valores grandes de \\( N \\). Isso ocorre porque a abordagem de memorização evita recalcular os mesmos valores várias vezes, armazenando os resultados intermediários em um vetor de memoização. Dessa forma, a complexidade de tempo da função otimizada é linear, \\( O(N) \\), em vez de exponencial, \\( O(2^N) \\), como na implementação original. Isso resulta em um tempo de execução muito mais rápido, como exemplificado nos testes realizados."
      ]
    },
    {
      "cell_type": "markdown",
      "metadata": {},
      "source": [
        "-----"
      ]
    },
    {
      "cell_type": "markdown",
      "metadata": {
        "id": "k7bbxYasZHhF"
      },
      "source": [
        "# [1.0 ponto] Questão 06 - Uso de Cluster em Supercomputação\n",
        "\n",
        "Esta disciplina estuda estratégias para resolver problemas complexos em tempo computacionalmente razoável.\n",
        "\n",
        "**Pede-se**:\n",
        "1. Qual é a importância de aliar estratégias de implementação (Software) com recursos computacionais disponíveis (Hardware) para melhor endereçamento do problema?\n",
        "2. Defina o que é Slurm e sua importância na programação paralela em larga escala.\n",
        "3. Considerando o job configurado pelo \".slurm\" abaixo, descreva quais recursos computacionais estão sendo solicitados ao Cluster, as limitações e condições de execução.\n",
        "\n",
        "```\n",
        "#!/bin/bash\n",
        "#SBATCH --job-name=job_paralelo\n",
        "#SBATCH --nodes=4\n",
        "#SBATCH --ntasks-per-node=8\n",
        "#SBATCH --time=02:00:00\n",
        "#SBATCH --partition=compute\n",
        "#SBATCH --output=resultado.out\n",
        "#SBATCH --error=erro.err\n",
        "\n",
        "# Carregar módulos necessários\n",
        "module load mpi\n",
        "\n",
        "# Executar o programa paralelo\n",
        "mpirun -np 32 ./meu_programa_paralelo\n",
        "```\n",
        "\n"
      ]
    },
    {
      "cell_type": "markdown",
      "metadata": {
        "id": "XuctGF5PZ-5H"
      },
      "source": [
        "#### *Respostas*:\n",
        "\n",
        "*1.* A combinação de estratégias de implementação de software com os recursos computacionais disponíveis é crucial para garantir a eficiência e o desempenho na solução de problemas complexos. Ao aproveitar o paralelismo oferecido por arquiteturas multicore ou clusters, o software pode dividir tarefas e executar em várias unidades de processamento ao mesmo tempo, o que acelera significativamente a resolução do problema. Programas que não utilizam adequadamente os recursos disponíveis tendem a subutilizar o hardware, resultando em maior tempo de execução. Além disso, softwares mal otimizados podem criar gargalos, como uso excessivo de I/O ou sincronizações desnecessárias, que diminuem a eficiência global. Por isso, uma implementação que maximiza o uso de hardware disponível melhora a escalabilidade e o desempenho geral, permitindo a resolução de problemas em tempo computacionalmente razoável.\n",
        "\n",
        "*2.* SLURM (Simple Linux Utility for Resource Management) é um sistema de gerenciamento de filas e recursos amplamente utilizado em supercomputadores e clusters para alocar recursos computacionais e gerenciar a execução de tarefas. Ele desempenha um papel essencial na programação paralela em larga escala, pois distribui os jobs entre os nós disponíveis de forma eficiente, garantindo o uso ideal de CPUs, memória e outros recursos. SLURM também gerencia a fila de execução de múltiplos usuários, organizando os jobs de acordo com prioridades e recursos disponíveis. Em ambientes de computação de alto desempenho (HPC), SLURM é fundamental para a execução de programas paralelos, permitindo a coordenação de processos em diferentes nós e suportando escalabilidade em sistemas de larga escala. Ele garante que o sistema opere de maneira eficiente e justa, mesmo em clusters com milhares de nós.\n",
        "\n",
        "*3.*\n",
        "\n",
        "*O script `.slurm` está solicitando ao cluster os seguintes recursos computacionais:*\n",
        "\n",
        "- **Número de nós (`--nodes=4`):** O job está requisitando o uso de **4 nós** do cluster. Um nó é uma máquina (servidor) individual dentro do cluster, que possui um número de processadores, memória e outros recursos. Usar múltiplos nós permite que o trabalho seja distribuído entre várias máquinas, que é algo fundamental para a execução de programas paralelos de larga escala.\n",
        "\n",
        "- **Tarefas por nó (`--ntasks-per-node=8`):** Em cada nó, serão executadas **8 tarefas paralelas**. Ou seja, cada nó vai processar 8 unidades de trabalho simultaneamente, utilizando os núcleos de CPU disponíveis. Em conjunto com o número de nós, a tarefa será distribuído em 32 tarefas no total (4 nós x 8 tarefas por nó).\n",
        "\n",
        "- **Tempo de execução (`--time=02:00:00`):** O job tem um limite de **2 horas** para sua execução. Se o programa não for concluído dentro desse período, ele será interrompido automaticamente pelo SLURM. Esse limite garante que a tarefa não consuma indefinidamente os recursos do cluster.\n",
        "\n",
        "- **Partição (`--partition=compute`):** O job será executado na partição `compute`. Partições em um cluster geralmente representam diferentes conjuntos de recursos ou diferentes filas de prioridade. A partição `compute` é uma fila dedicada a tarefas computacionais intensivas, mas pode ter limitações em termos de disponibilidade de recursos dependendo da carga do cluster.\n",
        "\n",
        "- **Execução paralela com MPI:** O módulo **MPI** (Message Passing Interface) é carregado para garantir a execução do programa paralelo. O comando `mpirun -np 32 ./meu_programa_paralelo` indica que **32 processos MPI** serão executados simultaneamente, distribuídos entre os 4 nós solicitados. Isso significa que cada nó estará processando 8 tarefas MPI em paralelo. A comunicação entre esses processos será gerenciada por MPI, permitindo que eles colaborem na execução de um único programa.\n",
        "\n",
        "*As principais Limitações e condições de execução:*\n",
        "\n",
        "O job está sujeito a algumas limitações e condições de execução. Primeiramente, existe o limite de tempo de 2 horas para a execução, o que significa que, caso o programa não termine dentro desse período, ele será interrompido automaticamente pelo sistema SLURM. Essa limitação pode ser um problema caso o código exija mais tempo para ser concluído, necessitando uma reavaliação dos requisitos de tempo de execução. Além disso, o job solicita 4 nós, com 8 tarefas por nó, totalizando 32 processos. A execução do job depende da disponibilidade de 4 nós no momento da submissão. Caso esses recursos não estejam disponíveis, o job ficará na fila até que os nós solicitados estejam livres para uso, o que pode gerar um tempo de espera antes do início da execução.\n",
        "\n",
        "Outro ponto importante é que a execução está confinada à partição `compute`. Se a partição estiver ocupada ou houver restrições de uso, isso também pode aumentar o tempo de espera para a execução. Além disso, o desempenho do job pode ser afetado pela eficiência da comunicação entre os processos MPI distribuídos pelos 4 nós. Se houver latência de rede ou problemas de sincronização, isso pode reduzir a eficiência do paralelismo e aumentar o tempo total de execução do programa. Em termos de memória, o script não especifica explicitamente a quantidade de memória requerida, portanto, o SLURM alocará a quantidade padrão proporcional ao número de tarefas. Se o programa consumir mais memória do que o disponível, isso poderá causar falhas no job."
      ]
    }
  ],
  "metadata": {
    "colab": {
      "provenance": []
    },
    "kernelspec": {
      "display_name": "Python 3",
      "name": "python3"
    },
    "language_info": {
      "name": "python"
    }
  },
  "nbformat": 4,
  "nbformat_minor": 0
}
